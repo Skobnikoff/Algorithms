{
 "cells": [
  {
   "cell_type": "code",
   "execution_count": 126,
   "metadata": {
    "collapsed": false
   },
   "outputs": [],
   "source": [
    "import csv\n",
    "from nltk import *\n",
    "import numpy as np\n",
    "from collections import defaultdict\n",
    "import pandas as pd\n",
    "from math import log\n",
    "\n",
    "test_data = \"roccio_benchmark.csv\"\n",
    "\n",
    "def read_data_file(data_file):\n",
    "    \"\"\"\n",
    "        Input:  csv file with sets of items in each row (item appears only once per row),\n",
    "        Output: list of lists\n",
    "    \"\"\"\n",
    "    with open(data_file, 'rU') as csv_file:\n",
    "        reader = csv.reader(csv_file)\n",
    "        # data = [{'text': row[0], 'class':row[1]} for row in reader]\n",
    "        data = []\n",
    "        for row in reader:\n",
    "            doc = dict()\n",
    "            doc['category'] = row[1]\n",
    "            text = row[0]                       # extract text\n",
    "            text = word_tokenize(text)     # tokenize text\n",
    "            text = [SnowballStemmer(\"english\").stem(t) for t in text]  # get stems\n",
    "            doc['text'] = text\n",
    "            data.append(doc)\n",
    "    return data\n",
    "\n",
    "\n",
    "def tf_idf(term, doc, N, word_counts):\n",
    "    term_freq = doc[term]\n",
    "    max_term_freq = max(doc.values())\n",
    "    TF = 0.5 + 0.5*(term_freq/max_term_freq)\n",
    "    \n",
    "    def term_freq_in_corpus(term, word_counts):\n",
    "        freq_in_corpus = 0\n",
    "        for doc in word_counts:\n",
    "            if term in doc['text']:\n",
    "                freq_in_corpus += 1\n",
    "        return freq_in_corpus\n",
    "\n",
    "    n = term_freq_in_corpus(term, word_counts)\n",
    "    if n == 0:\n",
    "        n = 1\n",
    "    IDF = log(N/n, 10)   # log in base of 10\n",
    "    return TF*IDF\n",
    "\n",
    "\"\"\"\n",
    "def get_vocabulary(DOCUMENTS):\n",
    "    return sorted(list(reduce(lambda x,y: x.union(y), [set(doc) for doc in DOCUMENTS])))\n",
    "\n",
    "def get_bag_of_words(word_counts):\n",
    "    bag_of_words = pd.DataFrame(word_counts).fillna(0)\n",
    "    return bag_of_words\n",
    "\"\"\"\n",
    "def get_word_counts(data):\n",
    "    word_counts = []\n",
    "    for doc in data:\n",
    "        counts = defaultdict(int)\n",
    "        for term in doc['text']:\n",
    "            counts[term] += 1\n",
    "        doc_counts = {'text': counts, 'category': doc['category']}\n",
    "        word_counts.append(doc_counts)\n",
    "\n",
    "    return word_counts\n",
    "\n",
    "def get_vector_space_model(word_counts):\n",
    "    N = len(word_counts)\n",
    "    vector_space = []\n",
    "    for doc in word_counts:\n",
    "        vector_weights = dict()\n",
    "        for term in doc['text']:\n",
    "            vector_weights[term] = tf_idf(term, doc['text'], N, word_counts)\n",
    "        doc_weights = {'text': vector_weights, 'category': doc['category']}\n",
    "        vector_space.append(doc_weights)\n",
    "        \n",
    "    return vector_space"
   ]
  },
  {
   "cell_type": "code",
   "execution_count": 89,
   "metadata": {
    "collapsed": false
   },
   "outputs": [],
   "source": [
    "#vocabulary = get_vocabulary(DOCUMENTS)\n",
    "# bag_of_words = get_bag_of_words(word_counts)"
   ]
  },
  {
   "cell_type": "code",
   "execution_count": 100,
   "metadata": {
    "collapsed": false
   },
   "outputs": [],
   "source": [
    "data = read_data_file(test_data)\n",
    "DOCUMENTS = [doc['text'] for doc in data]\n",
    "word_counts = get_word_counts(DOCUMENTS)\n",
    "vector_space = get_vector_space_model(word_counts)"
   ]
  },
  {
   "cell_type": "code",
   "execution_count": 129,
   "metadata": {
    "collapsed": false
   },
   "outputs": [],
   "source": [
    "data = read_data_file(test_data)\n",
    "word_counts = get_word_counts(data)\n",
    "vector_space = get_vector_space_model(word_counts)"
   ]
  },
  {
   "cell_type": "markdown",
   "metadata": {},
   "source": [
    "for index, row in bag_of_words.iterrows():\n",
    "    row_as_list = list(row)\n",
    "    break"
   ]
  },
  {
   "cell_type": "code",
   "execution_count": 143,
   "metadata": {
    "collapsed": false
   },
   "outputs": [],
   "source": []
  },
  {
   "cell_type": "code",
   "execution_count": 151,
   "metadata": {
    "collapsed": false
   },
   "outputs": [],
   "source": [
    "def group_data_by_categories(data):\n",
    "    categories = set([doc['category'] for doc in data])\n",
    "    data_by_categories = {}\n",
    "    for c in categories:\n",
    "        doc_set = filter(lambda doc: doc['category']==c, data)\n",
    "        data_by_categories[c] = [doc['text'] for doc in doc_set]\n",
    "    return data_by_categories    \n",
    "        \n",
    "vector_space_by_categories = group_data_by_categories(vector_space)"
   ]
  },
  {
   "cell_type": "code",
   "execution_count": null,
   "metadata": {
    "collapsed": true
   },
   "outputs": [],
   "source": [
    "def get_prototype_vector(category, doc_set):\n",
    "    "
   ]
  },
  {
   "cell_type": "code",
   "execution_count": 150,
   "metadata": {
    "collapsed": false
   },
   "outputs": [
    {
     "name": "stdout",
     "output_type": "stream",
     "text": [
      "positive\n",
      "negative\n"
     ]
    }
   ],
   "source": [
    "prototypes = {}\n",
    "for category in word_counts_by_categories:\n",
    "    prototypes[category] = get_prototype_vector(category)"
   ]
  },
  {
   "cell_type": "code",
   "execution_count": 152,
   "metadata": {
    "collapsed": false
   },
   "outputs": [
    {
     "data": {
      "text/plain": [
       "[{'i': 0.47712125471966244,\n",
       "  u'love': 0.6989700043360187,\n",
       "  u'song': 0.6989700043360187,\n",
       "  u'this': 0.6989700043360187},\n",
       " {u'extremali': 1.1760912590556811,\n",
       "  u'love': 0.6989700043360187,\n",
       "  u'peopl': 0.8450980400142567},\n",
       " {u'good': 0.8450980400142567,\n",
       "  'is': 0.47712125471966244,\n",
       "  u'the': 1.1760912590556811,\n",
       "  u'weather': 1.1760912590556811},\n",
       " {u'good': 0.8450980400142567,\n",
       "  u'job': 0.6989700043360187,\n",
       "  u'man': 1.1760912590556811},\n",
       " {'a': 0.47712125471966244,\n",
       "  u'found': 0.8450980400142567,\n",
       "  'i': 0.47712125471966244,\n",
       "  u'job': 0.6989700043360187,\n",
       "  u'new': 0.8450980400142567},\n",
       " {u'are': 1.1760912590556811,\n",
       "  u'friend': 0.8450980400142567,\n",
       "  u'her': 1.1760912590556811,\n",
       "  u'interest': 0.8450980400142567,\n",
       "  u'peopl': 0.8450980400142567,\n",
       "  u'veri': 0.8450980400142567},\n",
       " {'a': 0.47712125471966244,\n",
       "  u'found': 0.8450980400142567,\n",
       "  'i': 0.47712125471966244,\n",
       "  u'new': 0.8450980400142567,\n",
       "  u'song': 0.6989700043360187},\n",
       " {u'book': 1.1760912590556811,\n",
       "  u'interest': 0.8450980400142567,\n",
       "  'is': 0.47712125471966244,\n",
       "  u'this': 0.6989700043360187}]"
      ]
     },
     "execution_count": 152,
     "metadata": {},
     "output_type": "execute_result"
    }
   ],
   "source": [
    "vector_space_by_categories['positive']"
   ]
  }
 ],
 "metadata": {
  "kernelspec": {
   "display_name": "Python 2",
   "language": "python",
   "name": "python2"
  },
  "language_info": {
   "codemirror_mode": {
    "name": "ipython",
    "version": 2
   },
   "file_extension": ".py",
   "mimetype": "text/x-python",
   "name": "python",
   "nbconvert_exporter": "python",
   "pygments_lexer": "ipython2",
   "version": "2.7.11"
  }
 },
 "nbformat": 4,
 "nbformat_minor": 0
}
